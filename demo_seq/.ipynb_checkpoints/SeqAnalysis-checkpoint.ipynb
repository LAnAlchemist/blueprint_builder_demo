{
 "cells": [
  {
   "cell_type": "markdown",
   "metadata": {},
   "source": [
    "- Created by Linna An, 2020/08/29, for 'In Silico Design of de novo Protein Using Blueprints Pipeline'\n",
    "- It is recommend to run cells one-by-one by using shift+enter"
   ]
  },
  {
   "cell_type": "code",
   "execution_count": 2,
   "metadata": {},
   "outputs": [
    {
     "name": "stdout",
     "output_type": "stream",
     "text": [
      "PyRosetta-4 2020 [Rosetta PyRosetta4.conda.linux.cxx11thread.serialization.CentOS.python37.Release 2020.15+release.3121c734db02d2b62dd1974dcb8daface3f50057 2020-04-10T09:29:24] retrieved from: http://www.pyrosetta.org\n",
      "(C) Copyright Rosetta Commons Member Institutions. Created in JHU by Sergey Lyskov and PyRosetta Team.\n",
      "\u001b[0mcore.init: {0} \u001b[0mChecking for fconfig files in pwd and ./rosetta/flags\n",
      "\u001b[0mcore.init: {0} \u001b[0mRosetta version: PyRosetta4.conda.linux.cxx11thread.serialization.CentOS.python37.Release r251 2020.15+release.3121c73 3121c734db02d2b62dd1974dcb8daface3f50057 http://www.pyrosetta.org 2020-04-10T09:29:24\n",
      "\u001b[0mcore.init: {0} \u001b[0mcommand: PyRosetta -ex1 -ex2aro -database /home/linna/anaconda3/envs/pyrosetta_env/lib/python3.7/site-packages/pyrosetta/database\n",
      "\u001b[0mbasic.random.init_random_generator: {0} \u001b[0m'RNG device' seed mode, using '/dev/urandom', seed=1744231169 seed_offset=0 real_seed=1744231169 thread_index=0\n",
      "\u001b[0mbasic.random.init_random_generator: {0} \u001b[0mRandomGenerator:init: Normal mode, seed=1744231169 RG_type=mt19937\n"
     ]
    },
    {
     "data": {
      "text/html": [
       "<style>.container { width:100% !important; }</style>"
      ],
      "text/plain": [
       "<IPython.core.display.HTML object>"
      ]
     },
     "metadata": {},
     "output_type": "display_data"
    }
   ],
   "source": [
    "import os, subprocess, re, glob, math, time\n",
    "import numpy as np\n",
    "import scipy\n",
    "import scipy.spatial\n",
    "import matplotlib\n",
    "import matplotlib.pyplot as plt\n",
    "import pyrosetta as py\n",
    "import pyrosetta.rosetta as pyro\n",
    "from pyrosetta import *\n",
    "from pyrosetta.rosetta import *\n",
    "import seaborn as sns\n",
    "import pandas as pd\n",
    "from itertools import product\n",
    "from matplotlib.pyplot import hist\n",
    "\n",
    "init()\n",
    "\n",
    "from IPython.core.display import display, HTML\n",
    "display(HTML(\"<style>.container { width:100% !important; }</style>\"))\n",
    "from IPython.display import IFrame"
   ]
  },
  {
   "cell_type": "markdown",
   "metadata": {},
   "source": [
    "### Supply user path to the score file"
   ]
  },
  {
   "cell_type": "code",
   "execution_count": 35,
   "metadata": {},
   "outputs": [
    {
     "name": "stdout",
     "output_type": "stream",
     "text": [
      "correct path True\n"
     ]
    }
   ],
   "source": [
    "#here is the path you should change to your own path\n",
    "WORK_DIR = '/home/linna/digs_home/linnaan/Manuscript/2020_CurrProtocolProteinSci/GyuRie_barrel_script/LA_demos/demo_seq'\n",
    "score_file = WORK_DIR+'/seq_result/score_seq.sc'\n",
    "print('correct path {}'.format(os.path.isfile(test_result)))"
   ]
  },
  {
   "cell_type": "markdown",
   "metadata": {},
   "source": [
    "### Read the score file"
   ]
  },
  {
   "cell_type": "code",
   "execution_count": 31,
   "metadata": {},
   "outputs": [
    {
     "name": "stdout",
     "output_type": "stream",
     "text": [
      "All score terms measured Index(['SCORE:', 'total_score', 'angle_constraint', 'atom_pair_constraint',\n",
      "       'chainbreak', 'coordinate_constraint', 'dihedral_constraint',\n",
      "       'dslf_fa13', 'fa_atr', 'fa_dun', 'fa_elec', 'fa_intra_rep',\n",
      "       'fa_intra_sol_xover4', 'fa_rep', 'fa_sol', 'hbond_bb_sc', 'hbond_lr_bb',\n",
      "       'hbond_sc', 'hbond_sr_bb', 'lk_ball_wtd', 'metalbinding_constraint',\n",
      "       'omega', 'p_aa_pp', 'pro_close', 'rama_prepro', 'ref',\n",
      "       'res_type_constraint', 'yhh_planarity', 'description'],\n",
      "      dtype='object')\n",
      "The number of protein made 3\n"
     ]
    }
   ],
   "source": [
    "# Load scores and make plots\n",
    "df = pd.read_csv(score_file, header=1, delim_whitespace=True)\n",
    "print('All score terms measured {}'.format(df.columns))\n",
    "print('The number of protein made {}'.format(len(df)))"
   ]
  },
  {
   "cell_type": "markdown",
   "metadata": {},
   "source": [
    "### Select the score terms you care about"
   ]
  },
  {
   "cell_type": "code",
   "execution_count": 32,
   "metadata": {},
   "outputs": [
    {
     "name": "stdout",
     "output_type": "stream",
     "text": [
      "['total_score', 'omega', 'rama_prepro']\n"
     ]
    }
   ],
   "source": [
    "relevant_features = ['total_score','omega','rama_prepro']\n",
    "print(relevant_features)"
   ]
  },
  {
   "cell_type": "markdown",
   "metadata": {},
   "source": [
    "- for reasons I don't know, there may be random words inserted to socre table, those would create error in anlysis, remove them if meet.\n",
    "- use script:\n",
    "### only run this if there is error, change error_words"
   ]
  },
  {
   "cell_type": "code",
   "execution_count": 33,
   "metadata": {},
   "outputs": [],
   "source": [
    "run = False\n",
    "if run:\n",
    "    error_words = '9Uod8LrKtNwuwYKBRs9Y8TlhxMwQ7YNB'\n",
    "    cmd = 'sed \\'/{0}/d\\' {1}/all_silent.out.sc > {1}/all_silent_edit.out.sc && mv {1}/all_silent_edit.out.sc {1}/all_silent.out.sc'.\\\n",
    "                    format(error_words,test_result)\n",
    "    print(cmd)\n",
    "    subprocess.call('{}'.format(cmd),shell=True)"
   ]
  },
  {
   "cell_type": "markdown",
   "metadata": {},
   "source": [
    "### Display the distribution of the selected score terms"
   ]
  },
  {
   "cell_type": "code",
   "execution_count": 34,
   "metadata": {},
   "outputs": [
    {
     "data": {
      "image/png": "[encoded data removed]",
      "text/plain": [
       "<Figure size 864x216 with 4 Axes>"
      ]
     },
     "metadata": {
      "needs_background": "light"
     },
     "output_type": "display_data"
    }
   ],
   "source": [
    "ncols = 4\n",
    "nrows = math.ceil(len(relevant_features) / ncols)\n",
    "(fig, axs) = plt.subplots(\n",
    "    ncols=ncols, nrows=nrows, figsize=[12,3*nrows]\n",
    ")\n",
    "axs = axs.reshape(-1)\n",
    "\n",
    "for (i, metric) in enumerate(relevant_features):\n",
    "    sns.distplot(df[metric], ax=axs[i])\n",
    "    \n",
    "sns.despine()\n",
    "plt.tight_layout()\n",
    "plt.show()"
   ]
  },
  {
   "cell_type": "markdown",
   "metadata": {},
   "source": [
    "### Filter by metrics. In this demo, we only demonstrated selecting based on a rough cutoff for selected metrix due to limit number of input proteins. It is recommended to filter based on fraction for each score term."
   ]
  },
  {
   "cell_type": "code",
   "execution_count": 27,
   "metadata": {},
   "outputs": [
    {
     "name": "stdout",
     "output_type": "stream",
     "text": [
      "{'total_score': -388, 'omega': 18, 'rama_prepro': 10}\n"
     ]
    }
   ],
   "source": [
    "cutoffs_smaller_than = {}\n",
    "energies_smaller_than = {'total_score':(-388),'omega':(18),'rama_prepro':(10)}\n",
    "cutoffs_smaller_than.update(energies_smaller_than) \n",
    "\n",
    "print(cutoffs_smaller_than)"
   ]
  },
  {
   "cell_type": "markdown",
   "metadata": {},
   "source": [
    "### Display the score features of the selected pdb"
   ]
  },
  {
   "cell_type": "code",
   "execution_count": 37,
   "metadata": {},
   "outputs": [
    {
     "name": "stderr",
     "output_type": "stream",
     "text": [
      "/home/linna/anaconda3/envs/pyrosetta_env/lib/python3.7/site-packages/seaborn/distributions.py:288: UserWarning: Data must have variance to compute a kernel density estimate.\n",
      "  warnings.warn(msg, UserWarning)\n",
      "/home/linna/anaconda3/envs/pyrosetta_env/lib/python3.7/site-packages/seaborn/distributions.py:288: UserWarning: Data must have variance to compute a kernel density estimate.\n",
      "  warnings.warn(msg, UserWarning)\n",
      "/home/linna/anaconda3/envs/pyrosetta_env/lib/python3.7/site-packages/seaborn/distributions.py:288: UserWarning: Data must have variance to compute a kernel density estimate.\n",
      "  warnings.warn(msg, UserWarning)\n"
     ]
    },
    {
     "data": {
      "image/png": "[encoded data removed]",
      "text/plain": [
       "<Figure size 1080x216 with 4 Axes>"
      ]
     },
     "metadata": {
      "needs_background": "light"
     },
     "output_type": "display_data"
    },
    {
     "name": "stdout",
     "output_type": "stream",
     "text": [
      "1\n"
     ]
    },
    {
     "data": {
      "text/html": [
       "<div>\n",
       "<style scoped>\n",
       "    .dataframe tbody tr th:only-of-type {\n",
       "        vertical-align: middle;\n",
       "    }\n",
       "\n",
       "    .dataframe tbody tr th {\n",
       "        vertical-align: top;\n",
       "    }\n",
       "\n",
       "    .dataframe thead th {\n",
       "        text-align: right;\n",
       "    }\n",
       "</style>\n",
       "<table border=\"1\" class=\"dataframe\">\n",
       "  <thead>\n",
       "    <tr style=\"text-align: right;\">\n",
       "      <th></th>\n",
       "      <th>SCORE:</th>\n",
       "      <th>total_score</th>\n",
       "      <th>angle_constraint</th>\n",
       "      <th>atom_pair_constraint</th>\n",
       "      <th>chainbreak</th>\n",
       "      <th>coordinate_constraint</th>\n",
       "      <th>dihedral_constraint</th>\n",
       "      <th>dslf_fa13</th>\n",
       "      <th>fa_atr</th>\n",
       "      <th>fa_dun</th>\n",
       "      <th>...</th>\n",
       "      <th>lk_ball_wtd</th>\n",
       "      <th>metalbinding_constraint</th>\n",
       "      <th>omega</th>\n",
       "      <th>p_aa_pp</th>\n",
       "      <th>pro_close</th>\n",
       "      <th>rama_prepro</th>\n",
       "      <th>ref</th>\n",
       "      <th>res_type_constraint</th>\n",
       "      <th>yhh_planarity</th>\n",
       "      <th>description</th>\n",
       "    </tr>\n",
       "  </thead>\n",
       "  <tbody>\n",
       "    <tr>\n",
       "      <th>0</th>\n",
       "      <td>SCORE:</td>\n",
       "      <td>-389.433</td>\n",
       "      <td>0.0</td>\n",
       "      <td>0.001</td>\n",
       "      <td>0.0</td>\n",
       "      <td>0.0</td>\n",
       "      <td>0.0</td>\n",
       "      <td>0.0</td>\n",
       "      <td>-619.491</td>\n",
       "      <td>157.14</td>\n",
       "      <td>...</td>\n",
       "      <td>-0.719</td>\n",
       "      <td>0.0</td>\n",
       "      <td>17.373</td>\n",
       "      <td>-30.138</td>\n",
       "      <td>1.127</td>\n",
       "      <td>8.132</td>\n",
       "      <td>-1.423</td>\n",
       "      <td>0.0</td>\n",
       "      <td>0.012</td>\n",
       "      <td>input_demo_0010_seq_0001</td>\n",
       "    </tr>\n",
       "  </tbody>\n",
       "</table>\n",
       "<p>1 rows × 29 columns</p>\n",
       "</div>"
      ],
      "text/plain": [
       "   SCORE:  total_score  angle_constraint  atom_pair_constraint  chainbreak  \\\n",
       "0  SCORE:     -389.433               0.0                 0.001         0.0   \n",
       "\n",
       "   coordinate_constraint  dihedral_constraint  dslf_fa13   fa_atr  fa_dun  \\\n",
       "0                    0.0                  0.0        0.0 -619.491  157.14   \n",
       "\n",
       "   ...  lk_ball_wtd  metalbinding_constraint   omega  p_aa_pp  pro_close  \\\n",
       "0  ...       -0.719                      0.0  17.373  -30.138      1.127   \n",
       "\n",
       "   rama_prepro    ref  res_type_constraint  yhh_planarity  \\\n",
       "0        8.132 -1.423                  0.0          0.012   \n",
       "\n",
       "                description  \n",
       "0  input_demo_0010_seq_0001  \n",
       "\n",
       "[1 rows x 29 columns]"
      ]
     },
     "execution_count": 37,
     "metadata": {},
     "output_type": "execute_result"
    }
   ],
   "source": [
    "dfsub = df.copy()\n",
    "# for cutoff in cutoffs_greater_than:\n",
    "#     dfsub = dfsub[dfsub[cutoff] >= cutoffs_greater_than[cutoff]]\n",
    "for cutoff in cutoffs_smaller_than:\n",
    "    dfsub = dfsub[dfsub[cutoff] < cutoffs_smaller_than[cutoff]]\n",
    "\n",
    "\n",
    "ncols = 4\n",
    "nrows = math.ceil(len(relevant_features) / ncols)\n",
    "(fig, axs) = plt.subplots(\n",
    "    ncols=ncols, nrows=nrows, figsize=[15,3*nrows]\n",
    ")\n",
    "axs = axs.reshape(-1)\n",
    "for (i, metric) in enumerate(relevant_features):\n",
    "    if len(dfsub[metric])==0:\n",
    "        continue\n",
    "    try:\n",
    "        sns.distplot(dfsub[metric], ax=axs[i])\n",
    "    except:\n",
    "        print(\"failed for \", metric)\n",
    "    \n",
    "sns.despine()\n",
    "plt.tight_layout()\n",
    "plt.show()\n",
    "print(len(dfsub))\n",
    "dfsub"
   ]
  },
  {
   "cell_type": "markdown",
   "metadata": {},
   "source": [
    "### Move selected pdb to folder ./sel_seq"
   ]
  },
  {
   "cell_type": "code",
   "execution_count": 42,
   "metadata": {},
   "outputs": [
    {
     "name": "stdout",
     "output_type": "stream",
     "text": [
      "/home/linna/digs_home/linnaan/Manuscript/2020_CurrProtocolProteinSci/GyuRie_barrel_script/LA_demos/demo_seq/seq_result/input_demo_0010_seq_0001.pdb\n"
     ]
    }
   ],
   "source": [
    "os.makedirs(WORK_DIR+'/sel_seq',exist_ok=True)\n",
    "for pdb in dfsub['description']:\n",
    "    sel_pdb_path = WORK_DIR+'/seq_result/'+pdb+'.pdb'\n",
    "    cmd = 'cp -n {} {}'.format(sel_pdb_path,WORK_DIR+'/sel_seq')\n",
    "    subprocess.call('{}'.format(cmd),shell=True)"
   ]
  },
  {
   "cell_type": "code",
   "execution_count": null,
   "metadata": {},
   "outputs": [],
   "source": []
  }
 ],
 "metadata": {
  "kernelspec": {
   "display_name": "Python 3",
   "language": "python",
   "name": "python3"
  },
  "language_info": {
   "codemirror_mode": {
    "name": "ipython",
    "version": 3
   },
   "file_extension": ".py",
   "mimetype": "text/x-python",
   "name": "python",
   "nbconvert_exporter": "python",
   "pygments_lexer": "ipython3",
   "version": "3.7.7"
  }
 },
 "nbformat": 4,
 "nbformat_minor": 4
}
